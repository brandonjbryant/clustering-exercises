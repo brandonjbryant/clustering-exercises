{
 "cells": [
  {
   "cell_type": "code",
   "execution_count": 3,
   "metadata": {},
   "outputs": [],
   "source": [
    "import warnings\n",
    "warnings.filterwarnings(\"ignore\")\n",
    "\n",
    "# Wrangling\n",
    "import pandas as pd\n",
    "import numpy as np\n",
    "from acquire import get_zillow_data\n",
    "\n",
    "# Exploring\n",
    "import scipy.stats as stats\n",
    "\n",
    "# Visualizing\n",
    "%matplotlib inline\n",
    "import matplotlib.pyplot as plt\n",
    "import seaborn as sns\n",
    "\n",
    "# default pandas decimal number display format\n",
    "pd.options.display.float_format = '{:.2f}'.format"
   ]
  },
  {
   "cell_type": "markdown",
   "metadata": {},
   "source": [
    "# Acquire & Summarize\n",
    "#### 1. Acquire data from mySQL using the python module to connect and query. You will want to end with a single dataframe. Make sure to include: the logerror, all fields related to the properties that are available. You will end up using all the tables in the database.\n",
    "   * **Be sure to do the correct join (inner, outer, etc.). We do not want to eliminate properties purely because they may  have a null value for airconditioningtypeid.**\n",
    "   * Only include properties with a transaction in 2017, and include only the last transaction for each property (so no duplicate property ID's), along with zestimate error and date of transaction.\n",
    "   * Only include properties that include a latitude and longitude value.\n"
   ]
  },
  {
   "cell_type": "code",
   "execution_count": 4,
   "metadata": {},
   "outputs": [],
   "source": [
    "zillow = get_zillow_data()"
   ]
  },
  {
   "cell_type": "code",
   "execution_count": 5,
   "metadata": {},
   "outputs": [
    {
     "data": {
      "text/html": [
       "<div>\n",
       "<style scoped>\n",
       "    .dataframe tbody tr th:only-of-type {\n",
       "        vertical-align: middle;\n",
       "    }\n",
       "\n",
       "    .dataframe tbody tr th {\n",
       "        vertical-align: top;\n",
       "    }\n",
       "\n",
       "    .dataframe thead th {\n",
       "        text-align: right;\n",
       "    }\n",
       "</style>\n",
       "<table border=\"1\" class=\"dataframe\">\n",
       "  <thead>\n",
       "    <tr style=\"text-align: right;\">\n",
       "      <th></th>\n",
       "      <th>typeconstructiontypeid</th>\n",
       "      <th>storytypeid</th>\n",
       "      <th>propertylandusetypeid</th>\n",
       "      <th>heatingorsystemtypeid</th>\n",
       "      <th>buildingclasstypeid</th>\n",
       "      <th>architecturalstyletypeid</th>\n",
       "      <th>airconditioningtypeid</th>\n",
       "      <th>id</th>\n",
       "      <th>parcelid</th>\n",
       "      <th>logerror</th>\n",
       "      <th>...</th>\n",
       "      <th>taxdelinquencyflag</th>\n",
       "      <th>taxdelinquencyyear</th>\n",
       "      <th>censustractandblock</th>\n",
       "      <th>airconditioningdesc</th>\n",
       "      <th>architecturalstyledesc</th>\n",
       "      <th>buildingclassdesc</th>\n",
       "      <th>heatingorsystemdesc</th>\n",
       "      <th>propertylandusedesc</th>\n",
       "      <th>storydesc</th>\n",
       "      <th>typeconstructiondesc</th>\n",
       "    </tr>\n",
       "  </thead>\n",
       "  <tbody>\n",
       "    <tr>\n",
       "      <th>0</th>\n",
       "      <td>nan</td>\n",
       "      <td>nan</td>\n",
       "      <td>261.00</td>\n",
       "      <td>nan</td>\n",
       "      <td>nan</td>\n",
       "      <td>nan</td>\n",
       "      <td>nan</td>\n",
       "      <td>0</td>\n",
       "      <td>14297519</td>\n",
       "      <td>0.03</td>\n",
       "      <td>...</td>\n",
       "      <td>None</td>\n",
       "      <td>nan</td>\n",
       "      <td>60590630072012.00</td>\n",
       "      <td>None</td>\n",
       "      <td>None</td>\n",
       "      <td>None</td>\n",
       "      <td>None</td>\n",
       "      <td>Single Family Residential</td>\n",
       "      <td>None</td>\n",
       "      <td>None</td>\n",
       "    </tr>\n",
       "    <tr>\n",
       "      <th>1</th>\n",
       "      <td>nan</td>\n",
       "      <td>nan</td>\n",
       "      <td>261.00</td>\n",
       "      <td>nan</td>\n",
       "      <td>nan</td>\n",
       "      <td>nan</td>\n",
       "      <td>nan</td>\n",
       "      <td>1</td>\n",
       "      <td>17052889</td>\n",
       "      <td>0.06</td>\n",
       "      <td>...</td>\n",
       "      <td>None</td>\n",
       "      <td>nan</td>\n",
       "      <td>61110010023006.00</td>\n",
       "      <td>None</td>\n",
       "      <td>None</td>\n",
       "      <td>None</td>\n",
       "      <td>None</td>\n",
       "      <td>Single Family Residential</td>\n",
       "      <td>None</td>\n",
       "      <td>None</td>\n",
       "    </tr>\n",
       "    <tr>\n",
       "      <th>2</th>\n",
       "      <td>nan</td>\n",
       "      <td>nan</td>\n",
       "      <td>261.00</td>\n",
       "      <td>nan</td>\n",
       "      <td>nan</td>\n",
       "      <td>nan</td>\n",
       "      <td>nan</td>\n",
       "      <td>2</td>\n",
       "      <td>14186244</td>\n",
       "      <td>0.01</td>\n",
       "      <td>...</td>\n",
       "      <td>None</td>\n",
       "      <td>nan</td>\n",
       "      <td>60590218022012.00</td>\n",
       "      <td>None</td>\n",
       "      <td>None</td>\n",
       "      <td>None</td>\n",
       "      <td>None</td>\n",
       "      <td>Single Family Residential</td>\n",
       "      <td>None</td>\n",
       "      <td>None</td>\n",
       "    </tr>\n",
       "    <tr>\n",
       "      <th>3</th>\n",
       "      <td>nan</td>\n",
       "      <td>nan</td>\n",
       "      <td>261.00</td>\n",
       "      <td>2.00</td>\n",
       "      <td>nan</td>\n",
       "      <td>nan</td>\n",
       "      <td>nan</td>\n",
       "      <td>3</td>\n",
       "      <td>12177905</td>\n",
       "      <td>-0.10</td>\n",
       "      <td>...</td>\n",
       "      <td>None</td>\n",
       "      <td>nan</td>\n",
       "      <td>60373001001006.00</td>\n",
       "      <td>None</td>\n",
       "      <td>None</td>\n",
       "      <td>None</td>\n",
       "      <td>Central</td>\n",
       "      <td>Single Family Residential</td>\n",
       "      <td>None</td>\n",
       "      <td>None</td>\n",
       "    </tr>\n",
       "    <tr>\n",
       "      <th>4</th>\n",
       "      <td>nan</td>\n",
       "      <td>nan</td>\n",
       "      <td>266.00</td>\n",
       "      <td>2.00</td>\n",
       "      <td>nan</td>\n",
       "      <td>nan</td>\n",
       "      <td>1.00</td>\n",
       "      <td>4</td>\n",
       "      <td>10887214</td>\n",
       "      <td>0.01</td>\n",
       "      <td>...</td>\n",
       "      <td>None</td>\n",
       "      <td>nan</td>\n",
       "      <td>60371236012000.00</td>\n",
       "      <td>Central</td>\n",
       "      <td>None</td>\n",
       "      <td>None</td>\n",
       "      <td>Central</td>\n",
       "      <td>Condominium</td>\n",
       "      <td>None</td>\n",
       "      <td>None</td>\n",
       "    </tr>\n",
       "  </tbody>\n",
       "</table>\n",
       "<p>5 rows × 72 columns</p>\n",
       "</div>"
      ],
      "text/plain": [
       "   typeconstructiontypeid  storytypeid  propertylandusetypeid  \\\n",
       "0                     nan          nan                 261.00   \n",
       "1                     nan          nan                 261.00   \n",
       "2                     nan          nan                 261.00   \n",
       "3                     nan          nan                 261.00   \n",
       "4                     nan          nan                 266.00   \n",
       "\n",
       "   heatingorsystemtypeid  buildingclasstypeid  architecturalstyletypeid  \\\n",
       "0                    nan                  nan                       nan   \n",
       "1                    nan                  nan                       nan   \n",
       "2                    nan                  nan                       nan   \n",
       "3                   2.00                  nan                       nan   \n",
       "4                   2.00                  nan                       nan   \n",
       "\n",
       "   airconditioningtypeid  id  parcelid  logerror  ... taxdelinquencyflag  \\\n",
       "0                    nan   0  14297519      0.03  ...               None   \n",
       "1                    nan   1  17052889      0.06  ...               None   \n",
       "2                    nan   2  14186244      0.01  ...               None   \n",
       "3                    nan   3  12177905     -0.10  ...               None   \n",
       "4                   1.00   4  10887214      0.01  ...               None   \n",
       "\n",
       "   taxdelinquencyyear censustractandblock  airconditioningdesc  \\\n",
       "0                 nan   60590630072012.00                 None   \n",
       "1                 nan   61110010023006.00                 None   \n",
       "2                 nan   60590218022012.00                 None   \n",
       "3                 nan   60373001001006.00                 None   \n",
       "4                 nan   60371236012000.00              Central   \n",
       "\n",
       "   architecturalstyledesc  buildingclassdesc  heatingorsystemdesc  \\\n",
       "0                    None               None                 None   \n",
       "1                    None               None                 None   \n",
       "2                    None               None                 None   \n",
       "3                    None               None              Central   \n",
       "4                    None               None              Central   \n",
       "\n",
       "         propertylandusedesc  storydesc  typeconstructiondesc  \n",
       "0  Single Family Residential       None                  None  \n",
       "1  Single Family Residential       None                  None  \n",
       "2  Single Family Residential       None                  None  \n",
       "3  Single Family Residential       None                  None  \n",
       "4                Condominium       None                  None  \n",
       "\n",
       "[5 rows x 72 columns]"
      ]
     },
     "execution_count": 5,
     "metadata": {},
     "output_type": "execute_result"
    }
   ],
   "source": [
    "zillow.head()"
   ]
  },
  {
   "cell_type": "code",
   "execution_count": 6,
   "metadata": {},
   "outputs": [
    {
     "data": {
      "text/plain": [
       "['typeconstructiontypeid',\n",
       " 'storytypeid',\n",
       " 'propertylandusetypeid',\n",
       " 'heatingorsystemtypeid',\n",
       " 'buildingclasstypeid',\n",
       " 'architecturalstyletypeid',\n",
       " 'airconditioningtypeid',\n",
       " 'id',\n",
       " 'parcelid',\n",
       " 'logerror',\n",
       " 'transactiondate',\n",
       " 'parcelid',\n",
       " 'trans_date',\n",
       " 'id',\n",
       " 'parcelid',\n",
       " 'basementsqft',\n",
       " 'bathroomcnt',\n",
       " 'bedroomcnt',\n",
       " 'buildingqualitytypeid',\n",
       " 'calculatedbathnbr',\n",
       " 'decktypeid',\n",
       " 'finishedfloor1squarefeet',\n",
       " 'calculatedfinishedsquarefeet',\n",
       " 'finishedsquarefeet12',\n",
       " 'finishedsquarefeet13',\n",
       " 'finishedsquarefeet15',\n",
       " 'finishedsquarefeet50',\n",
       " 'finishedsquarefeet6',\n",
       " 'fips',\n",
       " 'fireplacecnt',\n",
       " 'fullbathcnt',\n",
       " 'garagecarcnt',\n",
       " 'garagetotalsqft',\n",
       " 'hashottuborspa',\n",
       " 'latitude',\n",
       " 'longitude',\n",
       " 'lotsizesquarefeet',\n",
       " 'poolcnt',\n",
       " 'poolsizesum',\n",
       " 'pooltypeid10',\n",
       " 'pooltypeid2',\n",
       " 'pooltypeid7',\n",
       " 'propertycountylandusecode',\n",
       " 'propertyzoningdesc',\n",
       " 'rawcensustractandblock',\n",
       " 'regionidcity',\n",
       " 'regionidcounty',\n",
       " 'regionidneighborhood',\n",
       " 'regionidzip',\n",
       " 'roomcnt',\n",
       " 'threequarterbathnbr',\n",
       " 'unitcnt',\n",
       " 'yardbuildingsqft17',\n",
       " 'yardbuildingsqft26',\n",
       " 'yearbuilt',\n",
       " 'numberofstories',\n",
       " 'fireplaceflag',\n",
       " 'structuretaxvaluedollarcnt',\n",
       " 'taxvaluedollarcnt',\n",
       " 'assessmentyear',\n",
       " 'landtaxvaluedollarcnt',\n",
       " 'taxamount',\n",
       " 'taxdelinquencyflag',\n",
       " 'taxdelinquencyyear',\n",
       " 'censustractandblock',\n",
       " 'airconditioningdesc',\n",
       " 'architecturalstyledesc',\n",
       " 'buildingclassdesc',\n",
       " 'heatingorsystemdesc',\n",
       " 'propertylandusedesc',\n",
       " 'storydesc',\n",
       " 'typeconstructiondesc']"
      ]
     },
     "execution_count": 6,
     "metadata": {},
     "output_type": "execute_result"
    }
   ],
   "source": [
    "#narrow down \n",
    "#first peek at all columns\n",
    "zillow.columns.tolist()"
   ]
  },
  {
   "cell_type": "code",
   "execution_count": 7,
   "metadata": {},
   "outputs": [],
   "source": [
    "# address duplicates\n",
    "zillow.columns = ['typeconstructiontypeid',\n",
    "                  'storytypeid',\n",
    "                  'propertylandusetypeid',\n",
    "                  'heatingorsystemtypeid',\n",
    "                  'buildingclasstypeid',\n",
    "                  'architecturalstyletypeid',\n",
    "                  'airconditioningtypeid',\n",
    "                  'id',\n",
    "                  'parcelid',\n",
    "                  'logerror',\n",
    "                  'transactiondate',\n",
    "                  'parcelid2',\n",
    "                  'trans_date',\n",
    "                  'id2',\n",
    "                  'parcelid3',\n",
    "                  'basementsqft',\n",
    "                  'bathroomcnt',\n",
    "                  'bedroomcnt',\n",
    "                  'buildingqualitytypeid',\n",
    "                  'calculatedbathnbr',\n",
    "                  'decktypeid',\n",
    "                  'finishedfloor1squarefeet',\n",
    "                  'calculatedfinishedsquarefeet',\n",
    "                  'finishedsquarefeet12',\n",
    "                  'finishedsquarefeet13',\n",
    "                  'finishedsquarefeet15',\n",
    "                  'finishedsquarefeet50',\n",
    "                  'finishedsquarefeet6',\n",
    "                  'fips',\n",
    "                  'fireplacecnt',\n",
    "                  'fullbathcnt',\n",
    "                  'garagecarcnt',\n",
    "                  'garagetotalsqft',\n",
    "                  'hashottuborspa',\n",
    "                  'latitude',\n",
    "                  'longitude',\n",
    "                  'lotsizesquarefeet',\n",
    "                  'poolcnt',\n",
    "                  'poolsizesum',\n",
    "                  'pooltypeid10',\n",
    "                  'pooltypeid2',\n",
    "                  'pooltypeid7',\n",
    "                  'propertycountylandusecode',\n",
    "                  'propertyzoningdesc',\n",
    "                  'rawcensustractandblock',\n",
    "                  'regionidcity',\n",
    "                  'regionidcounty',\n",
    "                  'regionidneighborhood',\n",
    "                  'regionidzip',\n",
    "                  'roomcnt',\n",
    "                  'threequarterbathnbr',\n",
    "                  'unitcnt',\n",
    "                  'yardbuildingsqft17',\n",
    "                  'yardbuildingsqft26',\n",
    "                  'yearbuilt',\n",
    "                  'numberofstories',\n",
    "                  'fireplaceflag',\n",
    "                  'structuretaxvaluedollarcnt',\n",
    "                  'taxvaluedollarcnt',\n",
    "                  'assessmentyear',\n",
    "                  'landtaxvaluedollarcnt',\n",
    "                  'taxamount',\n",
    "                  'taxdelinquencyflag',\n",
    "                  'taxdelinquencyyear',\n",
    "                  'censustractandblock',\n",
    "                  'airconditioningdesc',\n",
    "                  'architecturalstyledesc',\n",
    "                  'buildingclassdesc',\n",
    "                  'heatingorsystemdesc',\n",
    "                  'propertylandusedesc',\n",
    "                  'storydesc',\n",
    "                  'typeconstructiondesc']"
   ]
  },
  {
   "cell_type": "code",
   "execution_count": 8,
   "metadata": {},
   "outputs": [],
   "source": [
    "#Drop duplicates\n",
    "zillow = zillow.drop(columns=['parcelid2','parcelid3','id2'])\n"
   ]
  },
  {
   "cell_type": "code",
   "execution_count": null,
   "metadata": {},
   "outputs": [],
   "source": []
  },
  {
   "cell_type": "code",
   "execution_count": null,
   "metadata": {},
   "outputs": [],
   "source": []
  },
  {
   "cell_type": "code",
   "execution_count": null,
   "metadata": {},
   "outputs": [],
   "source": []
  },
  {
   "cell_type": "markdown",
   "metadata": {},
   "source": [
    "#### 2. Summarize your data (summary stats, info, dtypes, shape, distributions, value_counts, etc.)"
   ]
  },
  {
   "cell_type": "code",
   "execution_count": 9,
   "metadata": {},
   "outputs": [
    {
     "data": {
      "text/html": [
       "<div>\n",
       "<style scoped>\n",
       "    .dataframe tbody tr th:only-of-type {\n",
       "        vertical-align: middle;\n",
       "    }\n",
       "\n",
       "    .dataframe tbody tr th {\n",
       "        vertical-align: top;\n",
       "    }\n",
       "\n",
       "    .dataframe thead th {\n",
       "        text-align: right;\n",
       "    }\n",
       "</style>\n",
       "<table border=\"1\" class=\"dataframe\">\n",
       "  <thead>\n",
       "    <tr style=\"text-align: right;\">\n",
       "      <th></th>\n",
       "      <th>typeconstructiontypeid</th>\n",
       "      <th>storytypeid</th>\n",
       "      <th>propertylandusetypeid</th>\n",
       "      <th>heatingorsystemtypeid</th>\n",
       "      <th>buildingclasstypeid</th>\n",
       "      <th>architecturalstyletypeid</th>\n",
       "      <th>airconditioningtypeid</th>\n",
       "      <th>id</th>\n",
       "      <th>parcelid</th>\n",
       "      <th>logerror</th>\n",
       "      <th>...</th>\n",
       "      <th>taxdelinquencyflag</th>\n",
       "      <th>taxdelinquencyyear</th>\n",
       "      <th>censustractandblock</th>\n",
       "      <th>airconditioningdesc</th>\n",
       "      <th>architecturalstyledesc</th>\n",
       "      <th>buildingclassdesc</th>\n",
       "      <th>heatingorsystemdesc</th>\n",
       "      <th>propertylandusedesc</th>\n",
       "      <th>storydesc</th>\n",
       "      <th>typeconstructiondesc</th>\n",
       "    </tr>\n",
       "  </thead>\n",
       "  <tbody>\n",
       "    <tr>\n",
       "      <th>0</th>\n",
       "      <td>nan</td>\n",
       "      <td>nan</td>\n",
       "      <td>261.00</td>\n",
       "      <td>nan</td>\n",
       "      <td>nan</td>\n",
       "      <td>nan</td>\n",
       "      <td>nan</td>\n",
       "      <td>0</td>\n",
       "      <td>14297519</td>\n",
       "      <td>0.03</td>\n",
       "      <td>...</td>\n",
       "      <td>None</td>\n",
       "      <td>nan</td>\n",
       "      <td>60590630072012.00</td>\n",
       "      <td>None</td>\n",
       "      <td>None</td>\n",
       "      <td>None</td>\n",
       "      <td>None</td>\n",
       "      <td>Single Family Residential</td>\n",
       "      <td>None</td>\n",
       "      <td>None</td>\n",
       "    </tr>\n",
       "  </tbody>\n",
       "</table>\n",
       "<p>1 rows × 69 columns</p>\n",
       "</div>"
      ],
      "text/plain": [
       "   typeconstructiontypeid  storytypeid  propertylandusetypeid  \\\n",
       "0                     nan          nan                 261.00   \n",
       "\n",
       "   heatingorsystemtypeid  buildingclasstypeid  architecturalstyletypeid  \\\n",
       "0                    nan                  nan                       nan   \n",
       "\n",
       "   airconditioningtypeid  id  parcelid  logerror  ... taxdelinquencyflag  \\\n",
       "0                    nan   0  14297519      0.03  ...               None   \n",
       "\n",
       "  taxdelinquencyyear  censustractandblock  airconditioningdesc  \\\n",
       "0                nan    60590630072012.00                 None   \n",
       "\n",
       "   architecturalstyledesc  buildingclassdesc  heatingorsystemdesc  \\\n",
       "0                    None               None                 None   \n",
       "\n",
       "         propertylandusedesc  storydesc  typeconstructiondesc  \n",
       "0  Single Family Residential       None                  None  \n",
       "\n",
       "[1 rows x 69 columns]"
      ]
     },
     "execution_count": 9,
     "metadata": {},
     "output_type": "execute_result"
    }
   ],
   "source": [
    "zillow.head(1)"
   ]
  },
  {
   "cell_type": "code",
   "execution_count": 11,
   "metadata": {},
   "outputs": [
    {
     "name": "stdout",
     "output_type": "stream",
     "text": [
      "<class 'pandas.core.frame.DataFrame'>\n",
      "RangeIndex: 77380 entries, 0 to 77379\n",
      "Data columns (total 69 columns):\n",
      " #   Column                        Non-Null Count  Dtype  \n",
      "---  ------                        --------------  -----  \n",
      " 0   typeconstructiontypeid        222 non-null    float64\n",
      " 1   storytypeid                   50 non-null     float64\n",
      " 2   propertylandusetypeid         77380 non-null  float64\n",
      " 3   heatingorsystemtypeid         49439 non-null  float64\n",
      " 4   buildingclasstypeid           15 non-null     float64\n",
      " 5   architecturalstyletypeid      206 non-null    float64\n",
      " 6   airconditioningtypeid         24953 non-null  float64\n",
      " 7   id                            77380 non-null  int64  \n",
      " 8   parcelid                      77380 non-null  int64  \n",
      " 9   logerror                      77380 non-null  float64\n",
      " 10  transactiondate               77380 non-null  object \n",
      " 11  trans_date                    77380 non-null  object \n",
      " 12  basementsqft                  50 non-null     float64\n",
      " 13  bathroomcnt                   77380 non-null  float64\n",
      " 14  bedroomcnt                    77380 non-null  float64\n",
      " 15  buildingqualitytypeid         49671 non-null  float64\n",
      " 16  calculatedbathnbr             76771 non-null  float64\n",
      " 17  decktypeid                    614 non-null    float64\n",
      " 18  finishedfloor1squarefeet      6023 non-null   float64\n",
      " 19  calculatedfinishedsquarefeet  77184 non-null  float64\n",
      " 20  finishedsquarefeet12          73748 non-null  float64\n",
      " 21  finishedsquarefeet13          41 non-null     float64\n",
      " 22  finishedsquarefeet15          3009 non-null   float64\n",
      " 23  finishedsquarefeet50          6023 non-null   float64\n",
      " 24  finishedsquarefeet6           386 non-null    float64\n",
      " 25  fips                          77380 non-null  float64\n",
      " 26  fireplacecnt                  8276 non-null   float64\n",
      " 27  fullbathcnt                   76771 non-null  float64\n",
      " 28  garagecarcnt                  25474 non-null  float64\n",
      " 29  garagetotalsqft               25474 non-null  float64\n",
      " 30  hashottuborspa                1538 non-null   float64\n",
      " 31  latitude                      77380 non-null  float64\n",
      " 32  longitude                     77380 non-null  float64\n",
      " 33  lotsizesquarefeet             69141 non-null  float64\n",
      " 34  poolcnt                       16137 non-null  float64\n",
      " 35  poolsizesum                   867 non-null    float64\n",
      " 36  pooltypeid10                  464 non-null    float64\n",
      " 37  pooltypeid2                   1074 non-null   float64\n",
      " 38  pooltypeid7                   15042 non-null  float64\n",
      " 39  propertycountylandusecode     77380 non-null  object \n",
      " 40  propertyzoningdesc            50330 non-null  object \n",
      " 41  rawcensustractandblock        77380 non-null  float64\n",
      " 42  regionidcity                  75909 non-null  float64\n",
      " 43  regionidcounty                77380 non-null  float64\n",
      " 44  regionidneighborhood          30890 non-null  float64\n",
      " 45  regionidzip                   77330 non-null  float64\n",
      " 46  roomcnt                       77380 non-null  float64\n",
      " 47  threequarterbathnbr           10096 non-null  float64\n",
      " 48  unitcnt                       50562 non-null  float64\n",
      " 49  yardbuildingsqft17            2388 non-null   float64\n",
      " 50  yardbuildingsqft26            70 non-null     float64\n",
      " 51  yearbuilt                     77117 non-null  float64\n",
      " 52  numberofstories               17560 non-null  float64\n",
      " 53  fireplaceflag                 172 non-null    float64\n",
      " 54  structuretaxvaluedollarcnt    77268 non-null  float64\n",
      " 55  taxvaluedollarcnt             77379 non-null  float64\n",
      " 56  assessmentyear                77380 non-null  float64\n",
      " 57  landtaxvaluedollarcnt         77378 non-null  float64\n",
      " 58  taxamount                     77375 non-null  float64\n",
      " 59  taxdelinquencyflag            2886 non-null   object \n",
      " 60  taxdelinquencyyear            2886 non-null   float64\n",
      " 61  censustractandblock           77136 non-null  float64\n",
      " 62  airconditioningdesc           24953 non-null  object \n",
      " 63  architecturalstyledesc        206 non-null    object \n",
      " 64  buildingclassdesc             15 non-null     object \n",
      " 65  heatingorsystemdesc           49439 non-null  object \n",
      " 66  propertylandusedesc           77380 non-null  object \n",
      " 67  storydesc                     50 non-null     object \n",
      " 68  typeconstructiondesc          222 non-null    object \n",
      "dtypes: float64(55), int64(2), object(12)\n",
      "memory usage: 40.7+ MB\n"
     ]
    }
   ],
   "source": [
    "zillow.info()"
   ]
  },
  {
   "cell_type": "code",
   "execution_count": 12,
   "metadata": {},
   "outputs": [
    {
     "data": {
      "text/html": [
       "<div>\n",
       "<style scoped>\n",
       "    .dataframe tbody tr th:only-of-type {\n",
       "        vertical-align: middle;\n",
       "    }\n",
       "\n",
       "    .dataframe tbody tr th {\n",
       "        vertical-align: top;\n",
       "    }\n",
       "\n",
       "    .dataframe thead th {\n",
       "        text-align: right;\n",
       "    }\n",
       "</style>\n",
       "<table border=\"1\" class=\"dataframe\">\n",
       "  <thead>\n",
       "    <tr style=\"text-align: right;\">\n",
       "      <th></th>\n",
       "      <th>typeconstructiontypeid</th>\n",
       "      <th>storytypeid</th>\n",
       "      <th>propertylandusetypeid</th>\n",
       "      <th>heatingorsystemtypeid</th>\n",
       "      <th>buildingclasstypeid</th>\n",
       "      <th>architecturalstyletypeid</th>\n",
       "      <th>airconditioningtypeid</th>\n",
       "      <th>id</th>\n",
       "      <th>parcelid</th>\n",
       "      <th>logerror</th>\n",
       "      <th>...</th>\n",
       "      <th>yearbuilt</th>\n",
       "      <th>numberofstories</th>\n",
       "      <th>fireplaceflag</th>\n",
       "      <th>structuretaxvaluedollarcnt</th>\n",
       "      <th>taxvaluedollarcnt</th>\n",
       "      <th>assessmentyear</th>\n",
       "      <th>landtaxvaluedollarcnt</th>\n",
       "      <th>taxamount</th>\n",
       "      <th>taxdelinquencyyear</th>\n",
       "      <th>censustractandblock</th>\n",
       "    </tr>\n",
       "  </thead>\n",
       "  <tbody>\n",
       "    <tr>\n",
       "      <th>count</th>\n",
       "      <td>222.00</td>\n",
       "      <td>50.00</td>\n",
       "      <td>77380.00</td>\n",
       "      <td>49439.00</td>\n",
       "      <td>15.00</td>\n",
       "      <td>206.00</td>\n",
       "      <td>24953.00</td>\n",
       "      <td>77380.00</td>\n",
       "      <td>77380.00</td>\n",
       "      <td>77380.00</td>\n",
       "      <td>...</td>\n",
       "      <td>77117.00</td>\n",
       "      <td>17560.00</td>\n",
       "      <td>172.00</td>\n",
       "      <td>77268.00</td>\n",
       "      <td>77379.00</td>\n",
       "      <td>77380.00</td>\n",
       "      <td>77378.00</td>\n",
       "      <td>77375.00</td>\n",
       "      <td>2886.00</td>\n",
       "      <td>77136.00</td>\n",
       "    </tr>\n",
       "    <tr>\n",
       "      <th>mean</th>\n",
       "      <td>6.04</td>\n",
       "      <td>7.00</td>\n",
       "      <td>261.83</td>\n",
       "      <td>3.92</td>\n",
       "      <td>3.93</td>\n",
       "      <td>7.39</td>\n",
       "      <td>1.81</td>\n",
       "      <td>38848.19</td>\n",
       "      <td>13007149.52</td>\n",
       "      <td>0.02</td>\n",
       "      <td>...</td>\n",
       "      <td>1968.64</td>\n",
       "      <td>1.43</td>\n",
       "      <td>1.00</td>\n",
       "      <td>189315.98</td>\n",
       "      <td>490137.46</td>\n",
       "      <td>2016.00</td>\n",
       "      <td>301096.94</td>\n",
       "      <td>5995.57</td>\n",
       "      <td>14.09</td>\n",
       "      <td>60496735236342.02</td>\n",
       "    </tr>\n",
       "    <tr>\n",
       "      <th>std</th>\n",
       "      <td>0.56</td>\n",
       "      <td>0.00</td>\n",
       "      <td>5.14</td>\n",
       "      <td>3.59</td>\n",
       "      <td>0.26</td>\n",
       "      <td>2.73</td>\n",
       "      <td>2.97</td>\n",
       "      <td>22402.14</td>\n",
       "      <td>3481368.13</td>\n",
       "      <td>0.17</td>\n",
       "      <td>...</td>\n",
       "      <td>23.79</td>\n",
       "      <td>0.54</td>\n",
       "      <td>0.00</td>\n",
       "      <td>230088.56</td>\n",
       "      <td>653447.67</td>\n",
       "      <td>0.00</td>\n",
       "      <td>492599.03</td>\n",
       "      <td>7622.89</td>\n",
       "      <td>2.19</td>\n",
       "      <td>1535251869244.56</td>\n",
       "    </tr>\n",
       "    <tr>\n",
       "      <th>min</th>\n",
       "      <td>4.00</td>\n",
       "      <td>7.00</td>\n",
       "      <td>31.00</td>\n",
       "      <td>1.00</td>\n",
       "      <td>3.00</td>\n",
       "      <td>2.00</td>\n",
       "      <td>1.00</td>\n",
       "      <td>0.00</td>\n",
       "      <td>10711855.00</td>\n",
       "      <td>-4.66</td>\n",
       "      <td>...</td>\n",
       "      <td>1824.00</td>\n",
       "      <td>1.00</td>\n",
       "      <td>1.00</td>\n",
       "      <td>44.00</td>\n",
       "      <td>1000.00</td>\n",
       "      <td>2016.00</td>\n",
       "      <td>161.00</td>\n",
       "      <td>19.92</td>\n",
       "      <td>3.00</td>\n",
       "      <td>60371011101000.00</td>\n",
       "    </tr>\n",
       "    <tr>\n",
       "      <th>25%</th>\n",
       "      <td>6.00</td>\n",
       "      <td>7.00</td>\n",
       "      <td>261.00</td>\n",
       "      <td>2.00</td>\n",
       "      <td>4.00</td>\n",
       "      <td>7.00</td>\n",
       "      <td>1.00</td>\n",
       "      <td>19460.75</td>\n",
       "      <td>11538296.75</td>\n",
       "      <td>-0.02</td>\n",
       "      <td>...</td>\n",
       "      <td>1953.00</td>\n",
       "      <td>1.00</td>\n",
       "      <td>1.00</td>\n",
       "      <td>84265.00</td>\n",
       "      <td>207000.00</td>\n",
       "      <td>2016.00</td>\n",
       "      <td>85504.00</td>\n",
       "      <td>2715.59</td>\n",
       "      <td>14.00</td>\n",
       "      <td>60373109005001.75</td>\n",
       "    </tr>\n",
       "    <tr>\n",
       "      <th>50%</th>\n",
       "      <td>6.00</td>\n",
       "      <td>7.00</td>\n",
       "      <td>261.00</td>\n",
       "      <td>2.00</td>\n",
       "      <td>4.00</td>\n",
       "      <td>7.00</td>\n",
       "      <td>1.00</td>\n",
       "      <td>38869.50</td>\n",
       "      <td>12531548.50</td>\n",
       "      <td>0.01</td>\n",
       "      <td>...</td>\n",
       "      <td>1970.00</td>\n",
       "      <td>1.00</td>\n",
       "      <td>1.00</td>\n",
       "      <td>136499.50</td>\n",
       "      <td>358976.00</td>\n",
       "      <td>2016.00</td>\n",
       "      <td>203383.50</td>\n",
       "      <td>4450.72</td>\n",
       "      <td>15.00</td>\n",
       "      <td>60376032003008.00</td>\n",
       "    </tr>\n",
       "    <tr>\n",
       "      <th>75%</th>\n",
       "      <td>6.00</td>\n",
       "      <td>7.00</td>\n",
       "      <td>266.00</td>\n",
       "      <td>7.00</td>\n",
       "      <td>4.00</td>\n",
       "      <td>7.00</td>\n",
       "      <td>1.00</td>\n",
       "      <td>58252.25</td>\n",
       "      <td>14211843.75</td>\n",
       "      <td>0.04</td>\n",
       "      <td>...</td>\n",
       "      <td>1987.00</td>\n",
       "      <td>2.00</td>\n",
       "      <td>1.00</td>\n",
       "      <td>218787.50</td>\n",
       "      <td>569003.00</td>\n",
       "      <td>2016.00</td>\n",
       "      <td>366802.25</td>\n",
       "      <td>6927.80</td>\n",
       "      <td>15.00</td>\n",
       "      <td>60590423251008.00</td>\n",
       "    </tr>\n",
       "    <tr>\n",
       "      <th>max</th>\n",
       "      <td>13.00</td>\n",
       "      <td>7.00</td>\n",
       "      <td>275.00</td>\n",
       "      <td>24.00</td>\n",
       "      <td>4.00</td>\n",
       "      <td>21.00</td>\n",
       "      <td>13.00</td>\n",
       "      <td>77612.00</td>\n",
       "      <td>167689317.00</td>\n",
       "      <td>5.26</td>\n",
       "      <td>...</td>\n",
       "      <td>2016.00</td>\n",
       "      <td>6.00</td>\n",
       "      <td>1.00</td>\n",
       "      <td>11421790.00</td>\n",
       "      <td>49061236.00</td>\n",
       "      <td>2016.00</td>\n",
       "      <td>48952198.00</td>\n",
       "      <td>586639.30</td>\n",
       "      <td>99.00</td>\n",
       "      <td>483030105084015.00</td>\n",
       "    </tr>\n",
       "  </tbody>\n",
       "</table>\n",
       "<p>8 rows × 57 columns</p>\n",
       "</div>"
      ],
      "text/plain": [
       "       typeconstructiontypeid  storytypeid  propertylandusetypeid  \\\n",
       "count                  222.00        50.00               77380.00   \n",
       "mean                     6.04         7.00                 261.83   \n",
       "std                      0.56         0.00                   5.14   \n",
       "min                      4.00         7.00                  31.00   \n",
       "25%                      6.00         7.00                 261.00   \n",
       "50%                      6.00         7.00                 261.00   \n",
       "75%                      6.00         7.00                 266.00   \n",
       "max                     13.00         7.00                 275.00   \n",
       "\n",
       "       heatingorsystemtypeid  buildingclasstypeid  architecturalstyletypeid  \\\n",
       "count               49439.00                15.00                    206.00   \n",
       "mean                    3.92                 3.93                      7.39   \n",
       "std                     3.59                 0.26                      2.73   \n",
       "min                     1.00                 3.00                      2.00   \n",
       "25%                     2.00                 4.00                      7.00   \n",
       "50%                     2.00                 4.00                      7.00   \n",
       "75%                     7.00                 4.00                      7.00   \n",
       "max                    24.00                 4.00                     21.00   \n",
       "\n",
       "       airconditioningtypeid       id     parcelid  logerror  ...  yearbuilt  \\\n",
       "count               24953.00 77380.00     77380.00  77380.00  ...   77117.00   \n",
       "mean                    1.81 38848.19  13007149.52      0.02  ...    1968.64   \n",
       "std                     2.97 22402.14   3481368.13      0.17  ...      23.79   \n",
       "min                     1.00     0.00  10711855.00     -4.66  ...    1824.00   \n",
       "25%                     1.00 19460.75  11538296.75     -0.02  ...    1953.00   \n",
       "50%                     1.00 38869.50  12531548.50      0.01  ...    1970.00   \n",
       "75%                     1.00 58252.25  14211843.75      0.04  ...    1987.00   \n",
       "max                    13.00 77612.00 167689317.00      5.26  ...    2016.00   \n",
       "\n",
       "       numberofstories  fireplaceflag  structuretaxvaluedollarcnt  \\\n",
       "count         17560.00         172.00                    77268.00   \n",
       "mean              1.43           1.00                   189315.98   \n",
       "std               0.54           0.00                   230088.56   \n",
       "min               1.00           1.00                       44.00   \n",
       "25%               1.00           1.00                    84265.00   \n",
       "50%               1.00           1.00                   136499.50   \n",
       "75%               2.00           1.00                   218787.50   \n",
       "max               6.00           1.00                 11421790.00   \n",
       "\n",
       "       taxvaluedollarcnt  assessmentyear  landtaxvaluedollarcnt  taxamount  \\\n",
       "count           77379.00        77380.00               77378.00   77375.00   \n",
       "mean           490137.46         2016.00              301096.94    5995.57   \n",
       "std            653447.67            0.00              492599.03    7622.89   \n",
       "min              1000.00         2016.00                 161.00      19.92   \n",
       "25%            207000.00         2016.00               85504.00    2715.59   \n",
       "50%            358976.00         2016.00              203383.50    4450.72   \n",
       "75%            569003.00         2016.00              366802.25    6927.80   \n",
       "max          49061236.00         2016.00            48952198.00  586639.30   \n",
       "\n",
       "       taxdelinquencyyear  censustractandblock  \n",
       "count             2886.00             77136.00  \n",
       "mean                14.09    60496735236342.02  \n",
       "std                  2.19     1535251869244.56  \n",
       "min                  3.00    60371011101000.00  \n",
       "25%                 14.00    60373109005001.75  \n",
       "50%                 15.00    60376032003008.00  \n",
       "75%                 15.00    60590423251008.00  \n",
       "max                 99.00   483030105084015.00  \n",
       "\n",
       "[8 rows x 57 columns]"
      ]
     },
     "execution_count": 12,
     "metadata": {},
     "output_type": "execute_result"
    }
   ],
   "source": [
    "zillow.describe()"
   ]
  },
  {
   "cell_type": "code",
   "execution_count": 13,
   "metadata": {},
   "outputs": [
    {
     "data": {
      "text/plain": [
       "(77380, 69)"
      ]
     },
     "execution_count": 13,
     "metadata": {},
     "output_type": "execute_result"
    }
   ],
   "source": [
    "zillow.shape"
   ]
  },
  {
   "cell_type": "markdown",
   "metadata": {},
   "source": [
    "#### 3. Write a function that takes in a dataframe of observations and attributes and returns a dataframe where each row is an atttribute name, the first column is the number of rows with missing values for that attribute, and the second column is percent of total rows that have missing values for that attribute. Run the function and document takeaways from this on how you want to handle missing values."
   ]
  },
  {
   "cell_type": "code",
   "execution_count": 15,
   "metadata": {},
   "outputs": [
    {
     "data": {
      "text/plain": [
       "buildingclasstypeid     77365\n",
       "buildingclassdesc       77365\n",
       "finishedsquarefeet13    77339\n",
       "storytypeid             77330\n",
       "basementsqft            77330\n",
       "dtype: int64"
      ]
     },
     "execution_count": 15,
     "metadata": {},
     "output_type": "execute_result"
    }
   ],
   "source": [
    "# Obtain the counts of all the nulls and sort\n",
    "nulls = zillow.isnull().sum().sort_values(ascending=False)\n",
    "nulls.head()\n"
   ]
  },
  {
   "cell_type": "code",
   "execution_count": 19,
   "metadata": {},
   "outputs": [
    {
     "data": {
      "text/plain": [
       "lotsizesquarefeet               8239\n",
       "finishedsquarefeet12            3632\n",
       "regionidcity                    1471\n",
       "calculatedbathnbr                609\n",
       "fullbathcnt                      609\n",
       "yearbuilt                        263\n",
       "censustractandblock              244\n",
       "calculatedfinishedsquarefeet     196\n",
       "structuretaxvaluedollarcnt       112\n",
       "regionidzip                       50\n",
       "taxamount                          5\n",
       "landtaxvaluedollarcnt              2\n",
       "taxvaluedollarcnt                  1\n",
       "transactiondate                    0\n",
       "propertylandusetypeid              0\n",
       "id                                 0\n",
       "parcelid                           0\n",
       "propertylandusedesc                0\n",
       "logerror                           0\n",
       "propertycountylandusecode          0\n",
       "trans_date                         0\n",
       "bathroomcnt                        0\n",
       "bedroomcnt                         0\n",
       "roomcnt                            0\n",
       "fips                               0\n",
       "regionidcounty                     0\n",
       "rawcensustractandblock             0\n",
       "latitude                           0\n",
       "longitude                          0\n",
       "assessmentyear                     0\n",
       "dtype: int64"
      ]
     },
     "execution_count": 19,
     "metadata": {},
     "output_type": "execute_result"
    }
   ],
   "source": [
    "#Lower nulls\n",
    "nulls.tail(30)"
   ]
  },
  {
   "cell_type": "code",
   "execution_count": 21,
   "metadata": {},
   "outputs": [],
   "source": [
    "#Function to identify where the data is missing\n",
    "def nulls_by_col(df):\n",
    "    num_missing = zillow.isnull().sum()\n",
    "    rows = zillow.shape[0]\n",
    "    pct_missing = num_missing / rows\n",
    "    cols_missing = pd.DataFrame({'number_missing_rows': num_missing, 'percent_rows_missing': pct_missing})\n",
    "    return cols_missing"
   ]
  },
  {
   "cell_type": "code",
   "execution_count": 23,
   "metadata": {},
   "outputs": [
    {
     "data": {
      "text/html": [
       "<div>\n",
       "<style scoped>\n",
       "    .dataframe tbody tr th:only-of-type {\n",
       "        vertical-align: middle;\n",
       "    }\n",
       "\n",
       "    .dataframe tbody tr th {\n",
       "        vertical-align: top;\n",
       "    }\n",
       "\n",
       "    .dataframe thead th {\n",
       "        text-align: right;\n",
       "    }\n",
       "</style>\n",
       "<table border=\"1\" class=\"dataframe\">\n",
       "  <thead>\n",
       "    <tr style=\"text-align: right;\">\n",
       "      <th></th>\n",
       "      <th>number_missing_rows</th>\n",
       "      <th>percent_rows_missing</th>\n",
       "    </tr>\n",
       "  </thead>\n",
       "  <tbody>\n",
       "    <tr>\n",
       "      <th>buildingclassdesc</th>\n",
       "      <td>77365</td>\n",
       "      <td>1.00</td>\n",
       "    </tr>\n",
       "    <tr>\n",
       "      <th>buildingclasstypeid</th>\n",
       "      <td>77365</td>\n",
       "      <td>1.00</td>\n",
       "    </tr>\n",
       "    <tr>\n",
       "      <th>finishedsquarefeet13</th>\n",
       "      <td>77339</td>\n",
       "      <td>1.00</td>\n",
       "    </tr>\n",
       "    <tr>\n",
       "      <th>basementsqft</th>\n",
       "      <td>77330</td>\n",
       "      <td>1.00</td>\n",
       "    </tr>\n",
       "    <tr>\n",
       "      <th>storydesc</th>\n",
       "      <td>77330</td>\n",
       "      <td>1.00</td>\n",
       "    </tr>\n",
       "    <tr>\n",
       "      <th>storytypeid</th>\n",
       "      <td>77330</td>\n",
       "      <td>1.00</td>\n",
       "    </tr>\n",
       "    <tr>\n",
       "      <th>yardbuildingsqft26</th>\n",
       "      <td>77310</td>\n",
       "      <td>1.00</td>\n",
       "    </tr>\n",
       "    <tr>\n",
       "      <th>fireplaceflag</th>\n",
       "      <td>77208</td>\n",
       "      <td>1.00</td>\n",
       "    </tr>\n",
       "    <tr>\n",
       "      <th>architecturalstyletypeid</th>\n",
       "      <td>77174</td>\n",
       "      <td>1.00</td>\n",
       "    </tr>\n",
       "    <tr>\n",
       "      <th>architecturalstyledesc</th>\n",
       "      <td>77174</td>\n",
       "      <td>1.00</td>\n",
       "    </tr>\n",
       "    <tr>\n",
       "      <th>typeconstructiontypeid</th>\n",
       "      <td>77158</td>\n",
       "      <td>1.00</td>\n",
       "    </tr>\n",
       "    <tr>\n",
       "      <th>typeconstructiondesc</th>\n",
       "      <td>77158</td>\n",
       "      <td>1.00</td>\n",
       "    </tr>\n",
       "    <tr>\n",
       "      <th>finishedsquarefeet6</th>\n",
       "      <td>76994</td>\n",
       "      <td>1.00</td>\n",
       "    </tr>\n",
       "    <tr>\n",
       "      <th>pooltypeid10</th>\n",
       "      <td>76916</td>\n",
       "      <td>0.99</td>\n",
       "    </tr>\n",
       "    <tr>\n",
       "      <th>decktypeid</th>\n",
       "      <td>76766</td>\n",
       "      <td>0.99</td>\n",
       "    </tr>\n",
       "  </tbody>\n",
       "</table>\n",
       "</div>"
      ],
      "text/plain": [
       "                          number_missing_rows  percent_rows_missing\n",
       "buildingclassdesc                       77365                  1.00\n",
       "buildingclasstypeid                     77365                  1.00\n",
       "finishedsquarefeet13                    77339                  1.00\n",
       "basementsqft                            77330                  1.00\n",
       "storydesc                               77330                  1.00\n",
       "storytypeid                             77330                  1.00\n",
       "yardbuildingsqft26                      77310                  1.00\n",
       "fireplaceflag                           77208                  1.00\n",
       "architecturalstyletypeid                77174                  1.00\n",
       "architecturalstyledesc                  77174                  1.00\n",
       "typeconstructiontypeid                  77158                  1.00\n",
       "typeconstructiondesc                    77158                  1.00\n",
       "finishedsquarefeet6                     76994                  1.00\n",
       "pooltypeid10                            76916                  0.99\n",
       "decktypeid                              76766                  0.99"
      ]
     },
     "execution_count": 23,
     "metadata": {},
     "output_type": "execute_result"
    }
   ],
   "source": [
    "#Check fucntion \n",
    "nulls_by_column = nulls_by_col(zillow)\n",
    "nulls_by_column.sort_values(by=\"percent_rows_missing\", ascending=False, inplace=True)\n",
    "nulls_by_column.head(15)"
   ]
  },
  {
   "cell_type": "markdown",
   "metadata": {},
   "source": [
    "#### 1. Write a function that takes in a dataframe and returns a dataframe with 3 columns: the number of columns missing, percent of columns missing, and number of rows with n columns missing. Run the function and document takeaways from this on how you want to handle missing values."
   ]
  },
  {
   "cell_type": "code",
   "execution_count": 26,
   "metadata": {},
   "outputs": [
    {
     "data": {
      "text/html": [
       "<div>\n",
       "<style scoped>\n",
       "    .dataframe tbody tr th:only-of-type {\n",
       "        vertical-align: middle;\n",
       "    }\n",
       "\n",
       "    .dataframe tbody tr th {\n",
       "        vertical-align: top;\n",
       "    }\n",
       "\n",
       "    .dataframe thead th {\n",
       "        text-align: right;\n",
       "    }\n",
       "</style>\n",
       "<table border=\"1\" class=\"dataframe\">\n",
       "  <thead>\n",
       "    <tr style=\"text-align: right;\">\n",
       "      <th></th>\n",
       "      <th>num_cols_missing</th>\n",
       "      <th>pct_cols_missing</th>\n",
       "      <th>num_rows</th>\n",
       "    </tr>\n",
       "  </thead>\n",
       "  <tbody>\n",
       "    <tr>\n",
       "      <th>25</th>\n",
       "      <td>48</td>\n",
       "      <td>69.56521739130434</td>\n",
       "      <td>3</td>\n",
       "    </tr>\n",
       "    <tr>\n",
       "      <th>24</th>\n",
       "      <td>47</td>\n",
       "      <td>68.11594202898551</td>\n",
       "      <td>3</td>\n",
       "    </tr>\n",
       "    <tr>\n",
       "      <th>23</th>\n",
       "      <td>46</td>\n",
       "      <td>66.66666666666666</td>\n",
       "      <td>5</td>\n",
       "    </tr>\n",
       "    <tr>\n",
       "      <th>22</th>\n",
       "      <td>45</td>\n",
       "      <td>65.21739130434783</td>\n",
       "      <td>50</td>\n",
       "    </tr>\n",
       "    <tr>\n",
       "      <th>21</th>\n",
       "      <td>44</td>\n",
       "      <td>63.76811594202898</td>\n",
       "      <td>78</td>\n",
       "    </tr>\n",
       "    <tr>\n",
       "      <th>20</th>\n",
       "      <td>43</td>\n",
       "      <td>62.31884057971014</td>\n",
       "      <td>28</td>\n",
       "    </tr>\n",
       "    <tr>\n",
       "      <th>19</th>\n",
       "      <td>42</td>\n",
       "      <td>60.86956521739131</td>\n",
       "      <td>23</td>\n",
       "    </tr>\n",
       "    <tr>\n",
       "      <th>18</th>\n",
       "      <td>41</td>\n",
       "      <td>59.42028985507246</td>\n",
       "      <td>29</td>\n",
       "    </tr>\n",
       "    <tr>\n",
       "      <th>17</th>\n",
       "      <td>40</td>\n",
       "      <td>57.971014492753625</td>\n",
       "      <td>230</td>\n",
       "    </tr>\n",
       "    <tr>\n",
       "      <th>16</th>\n",
       "      <td>39</td>\n",
       "      <td>56.52173913043478</td>\n",
       "      <td>285</td>\n",
       "    </tr>\n",
       "  </tbody>\n",
       "</table>\n",
       "</div>"
      ],
      "text/plain": [
       "   num_cols_missing    pct_cols_missing  num_rows\n",
       "25               48   69.56521739130434         3\n",
       "24               47   68.11594202898551         3\n",
       "23               46   66.66666666666666         5\n",
       "22               45   65.21739130434783        50\n",
       "21               44   63.76811594202898        78\n",
       "20               43   62.31884057971014        28\n",
       "19               42   60.86956521739131        23\n",
       "18               41   59.42028985507246        29\n",
       "17               40  57.971014492753625       230\n",
       "16               39   56.52173913043478       285"
      ]
     },
     "execution_count": 26,
     "metadata": {},
     "output_type": "execute_result"
    }
   ],
   "source": [
    "def nulls_by_row(zillow):\n",
    "    num_cols_missing = zillow.isnull().sum(axis=1)\n",
    "    pct_cols_missing = zillow.isnull().sum(axis=1)/zillow.shape[1]*100\n",
    "    rows_missing = pd.DataFrame({'num_cols_missing': num_cols_missing, 'pct_cols_missing': pct_cols_missing}).reset_index().groupby(['num_cols_missing','pct_cols_missing']).count().rename(index=str, columns={'index': 'num_rows'}).reset_index()\n",
    "    return rows_missing \n",
    "\n",
    "null_rows = nulls_by_row(zillow)\n",
    "null_rows.sort_values(by=\"pct_cols_missing\", ascending=False, inplace=True)\n",
    "null_rows.head(10)"
   ]
  },
  {
   "cell_type": "code",
   "execution_count": null,
   "metadata": {},
   "outputs": [],
   "source": [
    "#Takeaways here\n"
   ]
  },
  {
   "cell_type": "markdown",
   "metadata": {},
   "source": [
    "# <font color = \"darkgreen\"> Prepare</font>"
   ]
  },
  {
   "cell_type": "markdown",
   "metadata": {},
   "source": [
    "#### 1.  Remove any properties that are likely to be something other than single unit properties. (e.g. no duplexes, no land/lot, ...). There are multiple ways to estimate that a property is a single unit, and there is not a single \"right\" answer. But for this exercise, do not purely filter by unitcnt as we did previously. Add some new logic that will reduce the number of properties that are falsely removed. You might want to use # bedrooms, square feet, unit type or the like to then identify those with unitcnt not defined."
   ]
  },
  {
   "cell_type": "code",
   "execution_count": 27,
   "metadata": {},
   "outputs": [],
   "source": [
    "# Filter out single units from propertylandusetype\n",
    "# 260- Residential General\n",
    "# 261- Single Family residential\n",
    "# 262- Rural Residence\n",
    "# 279- Inferred Single Faily Residential\n",
    "zillow = zillow[zillow.propertylandusetypeid.isin([260, 261, 262, 279])]"
   ]
  },
  {
   "cell_type": "code",
   "execution_count": 28,
   "metadata": {},
   "outputs": [],
   "source": [
    "#Filter out 0 bedroom and 0 bathroom\n",
    "zillow = zillow[(zillow.bedroomcnt > 0) & (zillow.bathroomcnt > 0)]"
   ]
  },
  {
   "cell_type": "code",
   "execution_count": 29,
   "metadata": {},
   "outputs": [
    {
     "data": {
      "text/plain": [
       "(52178, 69)"
      ]
     },
     "execution_count": 29,
     "metadata": {},
     "output_type": "execute_result"
    }
   ],
   "source": [
    "zillow.shape"
   ]
  },
  {
   "cell_type": "code",
   "execution_count": 30,
   "metadata": {},
   "outputs": [
    {
     "data": {
      "text/plain": [
       "1.00    33698\n",
       "2.00       26\n",
       "4.00        2\n",
       "3.00        1\n",
       "Name: unitcnt, dtype: int64"
      ]
     },
     "execution_count": 30,
     "metadata": {},
     "output_type": "execute_result"
    }
   ],
   "source": [
    "#unit count\n",
    "zillow.unitcnt.value_counts()"
   ]
  },
  {
   "cell_type": "code",
   "execution_count": 31,
   "metadata": {},
   "outputs": [
    {
     "data": {
      "text/plain": [
       "18451"
      ]
     },
     "execution_count": 31,
     "metadata": {},
     "output_type": "execute_result"
    }
   ],
   "source": [
    "zillow.unitcnt.isnull().sum()"
   ]
  },
  {
   "cell_type": "code",
   "execution_count": 33,
   "metadata": {},
   "outputs": [
    {
     "data": {
      "text/plain": [
       "(52178, 69)"
      ]
     },
     "execution_count": 33,
     "metadata": {},
     "output_type": "execute_result"
    }
   ],
   "source": [
    "zillow.unitcnt = zillow.unitcnt.fillna(1.0)\n",
    "zillow.shape"
   ]
  },
  {
   "cell_type": "code",
   "execution_count": 34,
   "metadata": {},
   "outputs": [
    {
     "data": {
      "text/plain": [
       "29"
      ]
     },
     "execution_count": 34,
     "metadata": {},
     "output_type": "execute_result"
    }
   ],
   "source": [
    "(zillow.unitcnt != 1.0).sum()"
   ]
  },
  {
   "cell_type": "code",
   "execution_count": 35,
   "metadata": {},
   "outputs": [],
   "source": [
    "# get rid of other types\n",
    "zillow = zillow[zillow.unitcnt == 1.0]"
   ]
  },
  {
   "cell_type": "code",
   "execution_count": 36,
   "metadata": {},
   "outputs": [
    {
     "data": {
      "text/plain": [
       "(52149, 69)"
      ]
     },
     "execution_count": 36,
     "metadata": {},
     "output_type": "execute_result"
    }
   ],
   "source": [
    "zillow.shape"
   ]
  },
  {
   "cell_type": "markdown",
   "metadata": {},
   "source": [
    "#### 2. Create a function that will drop rows or columns based on the percent of values that are missing: handle_missing_values(df, prop_required_column, prop_required_row).\n",
    "* The input:\n",
    "     * A dataframe\n",
    "     * A number between 0 and 1 that represents the proportion, for each column, of rows with non-missing values required to keep the column. i.e. if prop_required_column = .6, then you are requiring a column to have at least 60% of values not-NA (no more than 40% missing).\n",
    "     * A number between 0 and 1 that represents the proportion, for each row, of columns/variables with non-missing values required to keep the row. For example, if prop_required_row = .75, then you are requiring a row to have at least 75% of variables with a non-missing value (no more that 25% missing).\n",
    "* The output:\n",
    "     * The dataframe with the columns and rows dropped as indicated._Be sure to drop the columns prior to the rows in your function._\n",
    "* __hint:__\n",
    "     * Look up the dropna documentation.\n",
    "     * You will want to compute a threshold from your input values (prop_required) and total number of rows or columns.\n",
    "     * Make use of inplace, i.e. inplace=True/False."
   ]
  },
  {
   "cell_type": "code",
   "execution_count": 38,
   "metadata": {},
   "outputs": [],
   "source": [
    "\n",
    "def handle_missing_values(zillow, prop_required_column = .60, prop_required_row = .60):\n",
    "    threshold = int(round(prop_required_column*len(zillow.index),0))\n",
    "    zillow.dropna(axis=1, thresh=threshold, inplace=True)\n",
    "    threshold = int(round(prop_required_row*len(zillow.columns),0))\n",
    "    zillow.dropna(axis=0, thresh=threshold, inplace=True)\n",
    "    return zillow"
   ]
  },
  {
   "cell_type": "code",
   "execution_count": 39,
   "metadata": {},
   "outputs": [],
   "source": [
    "zillow = handle_missing_values(zillow)"
   ]
  },
  {
   "cell_type": "code",
   "execution_count": 41,
   "metadata": {},
   "outputs": [],
   "source": [
    "#drop redundant id columns\n",
    "zillow = zillow.drop(columns=[\"propertylandusetypeid\", \"heatingorsystemtypeid\"])"
   ]
  },
  {
   "cell_type": "code",
   "execution_count": 43,
   "metadata": {},
   "outputs": [
    {
     "data": {
      "text/plain": [
       "buildingqualitytypeid           18537\n",
       "propertyzoningdesc              18476\n",
       "heatingorsystemdesc             18334\n",
       "regionidcity                     1028\n",
       "lotsizesquarefeet                 350\n",
       "finishedsquarefeet12              166\n",
       "censustractandblock               109\n",
       "structuretaxvaluedollarcnt         69\n",
       "yearbuilt                          40\n",
       "regionidzip                        23\n",
       "fullbathcnt                        16\n",
       "calculatedbathnbr                  16\n",
       "calculatedfinishedsquarefeet        8\n",
       "taxamount                           4\n",
       "taxvaluedollarcnt                   1\n",
       "landtaxvaluedollarcnt               1\n",
       "transactiondate                     0\n",
       "trans_date                          0\n",
       "logerror                            0\n",
       "bathroomcnt                         0\n",
       "parcelid                            0\n",
       "bedroomcnt                          0\n",
       "propertylandusedesc                 0\n",
       "propertycountylandusecode           0\n",
       "fips                                0\n",
       "latitude                            0\n",
       "longitude                           0\n",
       "rawcensustractandblock              0\n",
       "regionidcounty                      0\n",
       "roomcnt                             0\n",
       "unitcnt                             0\n",
       "assessmentyear                      0\n",
       "id                                  0\n",
       "dtype: int64"
      ]
     },
     "execution_count": 43,
     "metadata": {},
     "output_type": "execute_result"
    }
   ],
   "source": [
    "zillow.isnull().sum().sort_values(ascending=False)"
   ]
  },
  {
   "cell_type": "code",
   "execution_count": 44,
   "metadata": {},
   "outputs": [
    {
     "data": {
      "text/plain": [
       "18334"
      ]
     },
     "execution_count": 44,
     "metadata": {},
     "output_type": "execute_result"
    }
   ],
   "source": [
    "zillow.heatingorsystemdesc.isnull().sum()"
   ]
  },
  {
   "cell_type": "code",
   "execution_count": 45,
   "metadata": {},
   "outputs": [
    {
     "data": {
      "text/plain": [
       "Central       20676\n",
       "NaN           18334\n",
       "Floor/Wall    12505\n",
       "Forced air      517\n",
       "Solar            85\n",
       "None             16\n",
       "Baseboard         7\n",
       "Radiant           6\n",
       "Gravity           2\n",
       "Yes               1\n",
       "Name: heatingorsystemdesc, dtype: int64"
      ]
     },
     "execution_count": 45,
     "metadata": {},
     "output_type": "execute_result"
    }
   ],
   "source": [
    "zillow.heatingorsystemdesc.value_counts(dropna=False)"
   ]
  },
  {
   "cell_type": "code",
   "execution_count": 46,
   "metadata": {},
   "outputs": [],
   "source": [
    "zillow.heatingorsystemdesc = zillow.heatingorsystemdesc.fillna(\"None\")"
   ]
  },
  {
   "cell_type": "code",
   "execution_count": 47,
   "metadata": {},
   "outputs": [],
   "source": [
    "zillow = zillow.drop(columns=[\"propertyzoningdesc\"])"
   ]
  },
  {
   "cell_type": "code",
   "execution_count": 48,
   "metadata": {},
   "outputs": [],
   "source": [
    "zillow = zillow.drop(columns=[\"calculatedbathnbr\"])"
   ]
  },
  {
   "cell_type": "code",
   "execution_count": 50,
   "metadata": {},
   "outputs": [],
   "source": [
    "from sklearn.model_selection import train_test_split\n",
    "\n",
    "train_and_validate, test = train_test_split(zillow, train_size=.8, random_state=123)\n",
    "train, validate = train_test_split(train_and_validate, random_state=123)"
   ]
  },
  {
   "cell_type": "code",
   "execution_count": 53,
   "metadata": {},
   "outputs": [],
   "source": [
    "#Categorical columns\n",
    "cols = [\n",
    "    \"buildingqualitytypeid\",\n",
    "    \"regionidcity\",\n",
    "    \"regionidzip\",\n",
    "    \"yearbuilt\",\n",
    "    \"regionidcity\",\n",
    "    \"censustractandblock\"\n",
    "]\n",
    "\n",
    "for col in cols:\n",
    "    mode = int(train[col].mode()) \n",
    "    train[col].fillna(value=mode, inplace=True)\n",
    "    validate[col].fillna(value=mode, inplace=True)\n",
    "    test[col].fillna(value=mode, inplace=True)"
   ]
  },
  {
   "cell_type": "code",
   "execution_count": 52,
   "metadata": {},
   "outputs": [
    {
     "data": {
      "text/plain": [
       "lotsizesquarefeet               222\n",
       "finishedsquarefeet12             89\n",
       "structuretaxvaluedollarcnt       39\n",
       "fullbathcnt                      10\n",
       "calculatedfinishedsquarefeet      5\n",
       "taxamount                         4\n",
       "buildingqualitytypeid             0\n",
       "latitude                          0\n",
       "fips                              0\n",
       "propertylandusedesc               0\n",
       "dtype: int64"
      ]
     },
     "execution_count": 52,
     "metadata": {},
     "output_type": "execute_result"
    }
   ],
   "source": [
    "train.isnull().sum().sort_values(ascending=False).head(10)"
   ]
  },
  {
   "cell_type": "code",
   "execution_count": 54,
   "metadata": {},
   "outputs": [],
   "source": [
    "#Continuous columns\n",
    "cols = [\n",
    "    \"structuretaxvaluedollarcnt\",\n",
    "    \"taxamount\",\n",
    "    \"taxvaluedollarcnt\",\n",
    "    \"landtaxvaluedollarcnt\",\n",
    "    \"structuretaxvaluedollarcnt\",\n",
    "    \"finishedsquarefeet12\",\n",
    "    \"calculatedfinishedsquarefeet\",\n",
    "    \"fullbathcnt\",\n",
    "    \"lotsizesquarefeet\"\n",
    "]\n",
    "\n",
    "\n",
    "for col in cols:\n",
    "    median = train[col].median()\n",
    "    train[col].fillna(median, inplace=True)\n",
    "    validate[col].fillna(median, inplace=True)\n",
    "    test[col].fillna(median, inplace=True)"
   ]
  },
  {
   "cell_type": "code",
   "execution_count": 55,
   "metadata": {},
   "outputs": [
    {
     "data": {
      "text/plain": [
       "propertylandusedesc             0\n",
       "lotsizesquarefeet               0\n",
       "parcelid                        0\n",
       "logerror                        0\n",
       "transactiondate                 0\n",
       "trans_date                      0\n",
       "bathroomcnt                     0\n",
       "bedroomcnt                      0\n",
       "buildingqualitytypeid           0\n",
       "calculatedfinishedsquarefeet    0\n",
       "finishedsquarefeet12            0\n",
       "fips                            0\n",
       "fullbathcnt                     0\n",
       "latitude                        0\n",
       "longitude                       0\n",
       "propertycountylandusecode       0\n",
       "heatingorsystemdesc             0\n",
       "rawcensustractandblock          0\n",
       "regionidcity                    0\n",
       "regionidcounty                  0\n",
       "regionidzip                     0\n",
       "roomcnt                         0\n",
       "unitcnt                         0\n",
       "yearbuilt                       0\n",
       "structuretaxvaluedollarcnt      0\n",
       "taxvaluedollarcnt               0\n",
       "assessmentyear                  0\n",
       "landtaxvaluedollarcnt           0\n",
       "taxamount                       0\n",
       "censustractandblock             0\n",
       "id                              0\n",
       "dtype: int64"
      ]
     },
     "execution_count": 55,
     "metadata": {},
     "output_type": "execute_result"
    }
   ],
   "source": [
    "train.isnull().sum().sort_values(ascending=False)"
   ]
  },
  {
   "cell_type": "code",
   "execution_count": 56,
   "metadata": {},
   "outputs": [
    {
     "data": {
      "text/plain": [
       "0"
      ]
     },
     "execution_count": 56,
     "metadata": {},
     "output_type": "execute_result"
    }
   ],
   "source": [
    "train.isnull().sum().sort_values(ascending=False).sum()"
   ]
  },
  {
   "cell_type": "code",
   "execution_count": null,
   "metadata": {},
   "outputs": [],
   "source": [
    "# No more nulls"
   ]
  },
  {
   "cell_type": "code",
   "execution_count": null,
   "metadata": {},
   "outputs": [],
   "source": []
  },
  {
   "cell_type": "code",
   "execution_count": null,
   "metadata": {},
   "outputs": [],
   "source": []
  },
  {
   "cell_type": "code",
   "execution_count": null,
   "metadata": {},
   "outputs": [],
   "source": []
  },
  {
   "cell_type": "markdown",
   "metadata": {},
   "source": [
    "#### 3. Decide how to handle the remaining missing values:\n",
    "\n",
    "* Fill with constant value.\n",
    "* Impute with mean, median, mode.\n",
    "* Drop row/column"
   ]
  },
  {
   "cell_type": "markdown",
   "metadata": {},
   "source": [
    "# **wrangle_zillow.py**\n",
    "Functions of the work above needed to acquire and prepare a new sample of data."
   ]
  },
  {
   "cell_type": "markdown",
   "metadata": {},
   "source": [
    "# Mall Customers\n",
    "__notebook__\n",
    "1. Acquire data from mall_customers.customers in mysql database.\n",
    "2. Summarize data (include distributions and descriptive statistics).\n",
    "3. Detect outliers using IQR.\n",
    "4. Split data (train, validate, and test split).\n",
    "5. Encode categorical columns using a one hot encoder (pd.get_dummies).\n",
    "6. Handles missing values.\n",
    "7. Scaling\n"
   ]
  },
  {
   "cell_type": "markdown",
   "metadata": {},
   "source": [
    "# wrangle_mall.py\n",
    "\n",
    "1. Acquire data from mall_customers.customers in mysql database.\n",
    "2. Split the data into train, validate, and split\n",
    "3. One-hot-encoding (pd.get_dummies)\n",
    "4. Missing values\n",
    "5. Scaling"
   ]
  },
  {
   "cell_type": "code",
   "execution_count": null,
   "metadata": {},
   "outputs": [],
   "source": []
  }
 ],
 "metadata": {
  "kernelspec": {
   "display_name": "Python 3",
   "language": "python",
   "name": "python3"
  },
  "language_info": {
   "codemirror_mode": {
    "name": "ipython",
    "version": 3
   },
   "file_extension": ".py",
   "mimetype": "text/x-python",
   "name": "python",
   "nbconvert_exporter": "python",
   "pygments_lexer": "ipython3",
   "version": "3.8.5"
  }
 },
 "nbformat": 4,
 "nbformat_minor": 4
}
